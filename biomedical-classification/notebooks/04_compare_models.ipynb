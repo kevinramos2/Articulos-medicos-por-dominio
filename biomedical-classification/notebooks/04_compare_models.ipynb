{
 "cells": [
  {
   "cell_type": "code",
   "execution_count": 9,
   "id": "5a0e1532",
   "metadata": {},
   "outputs": [],
   "source": [
    "import os\n",
    "import json\n",
    "import pandas as pd\n",
    "import matplotlib.pyplot as plt"
   ]
  },
  {
   "cell_type": "code",
   "execution_count": 10,
   "id": "e5830cb5",
   "metadata": {},
   "outputs": [],
   "source": [
    "# Carpeta con resultados\n",
    "evidence_path = \"../evidence\"\n",
    "\n",
    "# Leer métricas JSON\n",
    "def load_metrics(file_path):\n",
    "    with open(file_path, \"r\") as f:\n",
    "        return json.load(f)\n"
   ]
  },
  {
   "cell_type": "code",
   "execution_count": 11,
   "id": "2e547a66",
   "metadata": {},
   "outputs": [
    {
     "name": "stdout",
     "output_type": "stream",
     "text": [
      "['confusion_matrices.png', 'confusion_matrices_embeddings_val.png', 'f1_per_class.png', 'f1_per_class_embeddings_val.png', 'metrics.txt', 'metrics_embeddings_val.json', 'metrics_embeddings_val.txt', 'precision_recall_embeddings_val.png']\n"
     ]
    }
   ],
   "source": [
    "import os\n",
    "\n",
    "print(os.listdir(\"../evidence/embeddings_val\"))\n"
   ]
  },
  {
   "cell_type": "code",
   "execution_count": 12,
   "id": "4cb771ff",
   "metadata": {},
   "outputs": [],
   "source": [
    "baseline_val = load_metrics(\"../evidence/baseline_val/metrics_baseline_val.json\")\n",
    "baseline_test = load_metrics(\"../evidence/baseline_test/metrics_baseline_test.json\")\n",
    "embeddings_val = load_metrics(\"../evidence/embeddings_val/metrics_embeddings_val.json\")\n",
    "embeddings_test = load_metrics(\"../evidence/embeddings_test/metrics_embeddings_test.json\")"
   ]
  },
  {
   "cell_type": "code",
   "execution_count": 13,
   "id": "b044d09e",
   "metadata": {},
   "outputs": [
    {
     "data": {
      "text/html": [
       "<div>\n",
       "<style scoped>\n",
       "    .dataframe tbody tr th:only-of-type {\n",
       "        vertical-align: middle;\n",
       "    }\n",
       "\n",
       "    .dataframe tbody tr th {\n",
       "        vertical-align: top;\n",
       "    }\n",
       "\n",
       "    .dataframe thead th {\n",
       "        text-align: right;\n",
       "    }\n",
       "</style>\n",
       "<table border=\"1\" class=\"dataframe\">\n",
       "  <thead>\n",
       "    <tr style=\"text-align: right;\">\n",
       "      <th></th>\n",
       "      <th>Modelo</th>\n",
       "      <th>Exact Match</th>\n",
       "      <th>F1 Micro</th>\n",
       "      <th>F1 Macro</th>\n",
       "    </tr>\n",
       "  </thead>\n",
       "  <tbody>\n",
       "    <tr>\n",
       "      <th>0</th>\n",
       "      <td>baseline (val)</td>\n",
       "      <td>0.639860</td>\n",
       "      <td>0.800595</td>\n",
       "      <td>0.734242</td>\n",
       "    </tr>\n",
       "    <tr>\n",
       "      <th>1</th>\n",
       "      <td>baseline (test)</td>\n",
       "      <td>0.654979</td>\n",
       "      <td>0.811611</td>\n",
       "      <td>0.766283</td>\n",
       "    </tr>\n",
       "    <tr>\n",
       "      <th>2</th>\n",
       "      <td>embeddings (val)</td>\n",
       "      <td>0.702797</td>\n",
       "      <td>0.857538</td>\n",
       "      <td>0.847742</td>\n",
       "    </tr>\n",
       "    <tr>\n",
       "      <th>3</th>\n",
       "      <td>embeddings (test)</td>\n",
       "      <td>0.676017</td>\n",
       "      <td>0.852747</td>\n",
       "      <td>0.847074</td>\n",
       "    </tr>\n",
       "  </tbody>\n",
       "</table>\n",
       "</div>"
      ],
      "text/plain": [
       "              Modelo  Exact Match  F1 Micro  F1 Macro\n",
       "0     baseline (val)     0.639860  0.800595  0.734242\n",
       "1    baseline (test)     0.654979  0.811611  0.766283\n",
       "2   embeddings (val)     0.702797  0.857538  0.847742\n",
       "3  embeddings (test)     0.676017  0.852747  0.847074"
      ]
     },
     "metadata": {},
     "output_type": "display_data"
    }
   ],
   "source": [
    "# Comparación en tabla\n",
    "rows = []\n",
    "for metrics in [baseline_val, baseline_test, embeddings_val, embeddings_test]:\n",
    "    rows.append({\n",
    "        \"Modelo\": f\"{metrics['model']} ({metrics['split']})\",\n",
    "        \"Exact Match\": metrics[\"exact_match\"],\n",
    "        \"F1 Micro\": metrics[\"f1_micro\"],\n",
    "        \"F1 Macro\": metrics[\"f1_macro\"],\n",
    "    })\n",
    "\n",
    "df = pd.DataFrame(rows)\n",
    "display(df)"
   ]
  },
  {
   "cell_type": "code",
   "execution_count": 14,
   "id": "5879d41a",
   "metadata": {},
   "outputs": [
    {
     "data": {
      "image/png": "[encoded data removed]",
      "text/plain": [
       "<Figure size 800x500 with 1 Axes>"
      ]
     },
     "metadata": {},
     "output_type": "display_data"
    }
   ],
   "source": [
    "# Gráfico comparativo F1\n",
    "df.set_index(\"Modelo\")[[\"F1 Micro\", \"F1 Macro\"]].plot(kind=\"bar\", figsize=(8,5))\n",
    "plt.title(\"Comparación de modelos\")\n",
    "plt.ylabel(\"Score\")\n",
    "plt.ylim(0,1)\n",
    "plt.show()"
   ]
  }
 ],
 "metadata": {
  "kernelspec": {
   "display_name": "Python 3",
   "language": "python",
   "name": "python3"
  },
  "language_info": {
   "codemirror_mode": {
    "name": "ipython",
    "version": 3
   },
   "file_extension": ".py",
   "mimetype": "text/x-python",
   "name": "python",
   "nbconvert_exporter": "python",
   "pygments_lexer": "ipython3",
   "version": "3.12.0"
  }
 },
 "nbformat": 4,
 "nbformat_minor": 5
}
