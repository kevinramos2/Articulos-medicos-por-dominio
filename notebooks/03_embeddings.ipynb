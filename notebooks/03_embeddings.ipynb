{
 "cells": [
  {
   "cell_type": "code",
   "execution_count": null,
   "id": "41fb7389",
   "metadata": {},
   "outputs": [],
   "source": [
    "# Mejora con embeddings, si da tiempo"
   ]
  }
 ],
 "metadata": {
  "language_info": {
   "name": "python"
  }
 },
 "nbformat": 4,
 "nbformat_minor": 5
}
