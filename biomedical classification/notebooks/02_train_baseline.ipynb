{
 "cells": [
  {
   "cell_type": "code",
   "execution_count": null,
   "id": "f7fd7737",
   "metadata": {},
   "outputs": [],
   "source": [
    "# Modelo sencillo: TF-IDF + Logistic Regression"
   ]
  }
 ],
 "metadata": {
  "language_info": {
   "name": "python"
  }
 },
 "nbformat": 4,
 "nbformat_minor": 5
}
